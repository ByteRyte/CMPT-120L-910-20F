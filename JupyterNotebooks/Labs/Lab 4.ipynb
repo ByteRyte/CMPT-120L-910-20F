{
 "metadata": {
  "language_info": {
   "codemirror_mode": {
    "name": "ipython",
    "version": 3
   },
   "file_extension": ".py",
   "mimetype": "text/x-python",
   "name": "python",
   "nbconvert_exporter": "python",
   "pygments_lexer": "ipython3",
   "version": 3
  },
  "orig_nbformat": 2
 },
 "nbformat": 4,
 "nbformat_minor": 2,
 "cells": [
  {
   "source": [
    "# Lab Four\n",
    "---\n",
    "\n",
    "For this lab we're going to be messing around with Markdown!\n",
    "\n",
    "Our Goals are:\n",
    "- Using Markdown!\n",
    "\n",
    "I want you to describe to me your process of converting the assignment and making it DRY. \n",
    "\n",
    "Please show the ability to:\n",
    "- Make a header\n",
    "- Make a list (ordered or unordered)\n",
    "- Link the Markdown Guide from the lesson. \n",
    "- Artuculate your thought process."
   ],
   "cell_type": "markdown",
   "metadata": {}
  },
  {
   "source": [
    "# This is a HEADER\n",
    "\n",
    ">This is a seperated text block.\n",
    ">Overall, this is a pretty simple format, or at least to me it is.\n",
    ">Markdown is certainly much easier to read than HTML is, and\n",
    ">it's much easier to understand and remember the syntax\n",
    ">because of how similar it is to normal writing, so to speak.\n",
    "\n",
    "Here is some normal text. Below this is an unordered list:\n",
    "- A\n",
    "- B\n",
    "- C\n",
    "\n",
    ">Both of these lists were rather easy to make, since the syntax\n",
    ">used here is exactly the same as if you were trying to create\n",
    ">a list in a Word or Google Docs document\n",
    "\n",
    "Here is an ordered list:\n",
    "\n",
    "1. I\n",
    "2. II\n",
    "3. III\n",
    "\n",
    "Here is the link back to the [Markdown Guide]\n",
    "\n",
    "\n",
    "[MarkDown Guide]: <https://www.markdownguide.org/>\n",
    "\n",
    "\n"
   ],
   "cell_type": "markdown",
   "metadata": {}
  }
 ]
}