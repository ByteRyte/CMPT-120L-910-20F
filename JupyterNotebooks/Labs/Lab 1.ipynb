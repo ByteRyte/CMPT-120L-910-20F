{
 "metadata": {
  "language_info": {
   "codemirror_mode": {
    "name": "ipython",
    "version": 3
   },
   "file_extension": ".py",
   "mimetype": "text/x-python",
   "name": "python",
   "nbconvert_exporter": "python",
   "pygments_lexer": "ipython3",
   "version": "3.8.5-final"
  },
  "orig_nbformat": 2,
  "kernelspec": {
   "name": "python_defaultSpec_1599536856735",
   "display_name": "Python 3.8.5 32-bit"
  }
 },
 "nbformat": 4,
 "nbformat_minor": 2,
 "cells": [
  {
   "cell_type": "code",
   "execution_count": 20,
   "metadata": {
    "tags": []
   },
   "outputs": [
    {
     "output_type": "stream",
     "name": "stdout",
     "text": "21\nIntro to Programming\nTrue\n3.14\n"
    }
   ],
   "source": [
    "# Define 4 variables, one of each type listed: [Integer, String, Boolean, Float]. Print all 4.\n",
    "num_of_students = 21\n",
    "name_of_class = \"Intro to Programming\"\n",
    "is_work_complete = True\n",
    "num_of_pie = 3.14\n",
    "print(num_of_students)\n",
    "print(name_of_class)\n",
    "print(is_work_complete)\n",
    "print(num_of_pie)"
   ]
  },
  {
   "cell_type": "code",
   "execution_count": 21,
   "metadata": {
    "tags": []
   },
   "outputs": [
    {
     "output_type": "stream",
     "name": "stdout",
     "text": "12\n-2\n0.7142857142857143\n35\n5\n"
    }
   ],
   "source": [
    "# With whatever variables you'd like demonstrate the following: [Addition, Subtraction, Division, Multiplication, Modulo]. Print all 5.\n",
    "number_a = 5\n",
    "number_b = 7\n",
    "print(number_a + number_b)\n",
    "print(number_a - number_b)\n",
    "print(number_a / number_b)\n",
    "print(number_a * number_b)\n",
    "print(number_a % number_b)"
   ]
  },
  {
   "cell_type": "code",
   "execution_count": 23,
   "metadata": {
    "tags": []
   },
   "outputs": [
    {
     "output_type": "stream",
     "name": "stdout",
     "text": "57\n"
    }
   ],
   "source": [
    "# Using 2 variables and addition print the number 57\n",
    "number_a = 56\n",
    "addition = number_a + 1\n",
    "print(addition)"
   ]
  },
  {
   "cell_type": "code",
   "execution_count": 30,
   "metadata": {
    "tags": []
   },
   "outputs": [
    {
     "output_type": "stream",
     "name": "stdout",
     "text": "37\n<class 'str'>\n10\n<class 'int'>\n299.99\n<class 'float'>\nTrue\n<class 'bool'>\n"
    }
   ],
   "source": [
    "# Change this variable to a string and print\n",
    "number_into_string = 37\n",
    "number_into_string = str(number_into_string)\n",
    "print(number_into_string)\n",
    "print(type(number_into_string))\n",
    "# Change this variable to a integer and print\n",
    "string_into_number = '10'\n",
    "string_into_number = int(string_into_number)\n",
    "print(string_into_number)\n",
    "print(type(string_into_number))\n",
    "# Change this variable to a float and print\n",
    "string_into_float = '299.99'\n",
    "string_into_float = float(string_into_float)\n",
    "print(string_into_float)\n",
    "print(type(string_into_float))\n",
    "# Change this variable to a boolean and print\n",
    "number_into_boolean = 37\n",
    "number_into_boolean = bool(number_into_boolean)\n",
    "print(number_into_boolean)\n",
    "print(type(number_into_boolean))\n"
   ]
  },
  {
   "cell_type": "code",
   "execution_count": 37,
   "metadata": {
    "tags": []
   },
   "outputs": [
    {
     "output_type": "stream",
     "name": "stdout",
     "text": "['Dog', 'Cat', 'Bird', 'GoldfishTurtle']\n"
    }
   ],
   "source": [
    "# Make me a list of any type\n",
    "list_of_pets = [\"Dog\", \"Cat\", \"Bird\", \"Goldfish\" \"Turtle\"]\n",
    "print(list_of_pets)"
   ]
  }
 ]
}